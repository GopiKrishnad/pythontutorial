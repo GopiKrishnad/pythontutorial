{
 "cells": [
  {
   "cell_type": "markdown",
   "metadata": {
    "collapsed": true,
    "slideshow": {
     "slide_type": "-"
    }
   },
   "source": [
    "#                               Python Introduction\n",
    "\n",
    "Python is interpreted, object oriented, cross platform programming language.\n",
    "  It has\n",
    "    <div style=\"margin: 10px\">\n",
    "    <ul>\n",
    "    <li>Lexical Scoping</li>\n",
    "    <li>Strong Typing</li>\n",
    "    <li>Dynamic Typing</li>\n",
    "    <li>Automatic Memory Management (Garbage Collection)</li>\n",
    "    <li>Built in high level object types such as lists (dynamic arrays) and dictionaries (associative arrays)</li>\n",
    "    <li>Python has a simple, readable syntax</li>\n",
    "    <li>A Large collection of libraries (Modules) for diverse task including,\n",
    "      system programming, GUI programming, network programming, database programming, string manipulation,               scientific computing programming, GUI programming, network programming, database programming,\n",
    "      string manipulation, scientific computing e.t.c and the python interpreter are open sourced</li>\n",
    "    <li>Python is recognized as improving programmer productivity.</li></ul>\n",
    "    </div>\n",
    "    "
   ]
  },
  {
   "cell_type": "markdown",
   "metadata": {},
   "source": [
    "##### <div style=\"color:#0000FF\">Difference between Strong typing and weak typing</div>\n",
    "In strong typed langauge you cannt add two different variable of differnt types.\n",
    "For e.g\n",
    "    "
   ]
  },
  {
   "cell_type": "code",
   "execution_count": 5,
   "metadata": {
    "collapsed": false,
    "slideshow": {
     "slide_type": "slide"
    }
   },
   "outputs": [
    {
     "ename": "TypeError",
     "evalue": "unsupported operand type(s) for +: 'int' and 'str'",
     "output_type": "error",
     "traceback": [
      "\u001b[0;31m---------------------------------------------------------------------------\u001b[0m",
      "\u001b[0;31mTypeError\u001b[0m                                 Traceback (most recent call last)",
      "\u001b[0;32m<ipython-input-5-36fca5936358>\u001b[0m in \u001b[0;36m<module>\u001b[0;34m()\u001b[0m\n\u001b[1;32m      1\u001b[0m \u001b[0mx\u001b[0m \u001b[0;34m=\u001b[0m \u001b[0;36m1\u001b[0m\u001b[0;34m\u001b[0m\u001b[0m\n\u001b[1;32m      2\u001b[0m \u001b[0my\u001b[0m \u001b[0;34m=\u001b[0m \u001b[0;34m'hello'\u001b[0m\u001b[0;34m\u001b[0m\u001b[0m\n\u001b[0;32m----> 3\u001b[0;31m \u001b[0;32mprint\u001b[0m \u001b[0mx\u001b[0m \u001b[0;34m+\u001b[0m \u001b[0my\u001b[0m\u001b[0;34m\u001b[0m\u001b[0m\n\u001b[0m",
      "\u001b[0;31mTypeError\u001b[0m: unsupported operand type(s) for +: 'int' and 'str'"
     ]
    }
   ],
   "source": [
    "x = 1\n",
    "y = 'hello'\n",
    "print x + y\n"
   ]
  },
  {
   "cell_type": "markdown",
   "metadata": {
    "slideshow": {
     "slide_type": "notes"
    }
   },
   "source": [
    "<div style=\"margin: 10px\">\n",
    "In weak typed language like javascript you can add two variables of different type and results are unexpected.\n",
    "x = 1<br/>\n",
    "y = 'hello'<br/>\n",
    "z = x + y<br/>\n",
    "value of z will be '1hello'<br/></div>"
   ]
  },
  {
   "cell_type": "markdown",
   "metadata": {},
   "source": [
    "<div style=\"color:#0000FF\"><p>Difference between static type and dynamic type language.<br/>\n",
    "In static type language like java.\n",
    "we need to declare variables before using them.\n",
    "int x;<br/>\n",
    "x = 1;<br/>\n",
    "But python we can just say as shown below as it is dynamic typing<br/>\n",
    "x  = 1<br/>\n",
    "There is no need to declare a variable. Every variable is bound to an object</p></div>"
   ]
  },
  {
   "cell_type": "markdown",
   "metadata": {
    "collapsed": true
   },
   "source": [
    "###### Python Basics\n",
    "Using the Interpreter\n",
    "\n",
    "- The way to start the python interpreter may differ across platforms\n",
    "- Usually typing python at the command prompt works\n",
    "- The way to exit the interpreter also differs across platforms\n",
    "\n",
    "      On Unix/Linux systems CTRL-D works, on Windows its CTRL-Z\n",
    "      and Enter\n",
    "\n",
    "- All python statements and expressions may be entered at the\n",
    "\n",
    "      interpreter prompt (usually  “>>>”).\n",
    "\n",
    "\n",
    "\n",
    "<img src=\"interpreter\" width=\"800px\" style=\"display: inline-block; margin-top: 5px;\">"
   ]
  },
  {
   "cell_type": "code",
   "execution_count": null,
   "metadata": {
    "collapsed": true
   },
   "outputs": [],
   "source": []
  }
 ],
 "metadata": {
  "celltoolbar": "Slideshow",
  "kernelspec": {
   "display_name": "Python 2",
   "language": "python",
   "name": "python2"
  },
  "language_info": {
   "codemirror_mode": {
    "name": "ipython",
    "version": 2
   },
   "file_extension": ".py",
   "mimetype": "text/x-python",
   "name": "python",
   "nbconvert_exporter": "python",
   "pygments_lexer": "ipython2",
   "version": "2.7.6"
  }
 },
 "nbformat": 4,
 "nbformat_minor": 1
}
